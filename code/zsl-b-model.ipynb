{
 "cells": [
  {
   "cell_type": "markdown",
   "id": "35ac945d-3fa9-4a93-937f-053b9754370c",
   "metadata": {},
   "source": [
    "### PREDICTING ENGLISH PREMIER LEAGUE MATCHES USING MACHINE LEARNING AND CONDITIONAL PROBABILITY"
   ]
  },
  {
   "cell_type": "code",
   "execution_count": null,
   "id": "d6082efe-9db0-410d-b4e4-ab67181c7216",
   "metadata": {},
   "outputs": [],
   "source": []
  }
 ],
 "metadata": {
  "kernelspec": {
   "display_name": "mlenv",
   "language": "python",
   "name": "mlenv"
  },
  "language_info": {
   "codemirror_mode": {
    "name": "ipython",
    "version": 3
   },
   "file_extension": ".py",
   "mimetype": "text/x-python",
   "name": "python",
   "nbconvert_exporter": "python",
   "pygments_lexer": "ipython3",
   "version": "3.11.5"
  }
 },
 "nbformat": 4,
 "nbformat_minor": 5
}
