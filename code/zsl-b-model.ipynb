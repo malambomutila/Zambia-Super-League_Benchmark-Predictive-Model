{
 "cells": [
  {
   "cell_type": "markdown",
   "id": "35ac945d-3fa9-4a93-937f-053b9754370c",
   "metadata": {},
   "source": [
    "### Predicting English Premier League Matches Using Machine Learning and Conditional Probability"
   ]
  },
  {
   "cell_type": "markdown",
   "id": "b637fb5b-c5db-4ba1-9600-f566bc19cdbb",
   "metadata": {},
   "source": [
    "The hypothesis behind this model is that the players are the key features for the outcome of football matches. <br>\n",
    "I test this by collecting EPL player and match data from the 2012/2013 to 2023/2024 season, using the starting line-ups and substitutions as key features and comparing this to a predictive model without these player features. <br>"
   ]
  },
  {
   "cell_type": "markdown",
   "id": "36d5d70f-7e53-40dc-9304-4228f180bcd2",
   "metadata": {},
   "source": [
    "#### Web Scrapping"
   ]
  },
  {
   "cell_type": "markdown",
   "id": "25ee4052-bb52-46c5-95f5-0cd935480dca",
   "metadata": {},
   "source": [
    "Player data is scrapped from the official premier league website (www.premierleague.com), sofascore.com and flashscore.com."
   ]
  },
  {
   "cell_type": "markdown",
   "id": "20e2cbdf-76d9-4d07-96f9-d5ca3129d725",
   "metadata": {},
   "source": [
    "1. Scrapping premierleague.com"
   ]
  },
  {
   "cell_type": "code",
   "execution_count": null,
   "id": "b283a9ed-a024-4475-b763-5cc3788d8a85",
   "metadata": {},
   "outputs": [],
   "source": []
  },
  {
   "cell_type": "code",
   "execution_count": null,
   "id": "b805ad55-123d-42b9-9178-16b442a5ea04",
   "metadata": {},
   "outputs": [],
   "source": []
  },
  {
   "cell_type": "code",
   "execution_count": null,
   "id": "d420db21-54c2-4a7b-8409-b24d9a59673f",
   "metadata": {},
   "outputs": [],
   "source": []
  },
  {
   "cell_type": "code",
   "execution_count": null,
   "id": "9d0fbf65-c4d6-4c80-aa5d-7ee2e7b5e1b3",
   "metadata": {},
   "outputs": [],
   "source": []
  },
  {
   "cell_type": "code",
   "execution_count": null,
   "id": "60b72ece-708c-4631-86e8-f32e476de959",
   "metadata": {},
   "outputs": [],
   "source": []
  },
  {
   "cell_type": "code",
   "execution_count": 1,
   "id": "7d576386-c6b0-4378-99c6-afa13755b966",
   "metadata": {},
   "outputs": [
    {
     "name": "stdout",
     "output_type": "stream",
     "text": [
      "Successful.\n"
     ]
    }
   ],
   "source": [
    "# Import libraries\n",
    "\n",
    "# For data manipulation\n",
    "import pandas as pd\n",
    "import numpy as np\n",
    "\n",
    "# For data visualization\n",
    "%matplotlib inline\n",
    "import matplotlib.pyplot as plt\n",
    "import seaborn as sns\n",
    "\n",
    "# For displaying all of the columns in dataframes\n",
    "pd.set_option('display.max_columns', None)\n",
    "\n",
    "# For data modeling\n",
    "import xgboost as xgb\n",
    "from xgboost import XGBClassifier\n",
    "from xgboost import XGBRegressor\n",
    "from xgboost import plot_importance\n",
    "\n",
    "from sklearn.ensemble import RandomForestRegressor\n",
    "from sklearn.model_selection import train_test_split\n",
    "from sklearn.metrics import mean_squared_error\n",
    "from sklearn.linear_model import LogisticRegression\n",
    "from sklearn.tree import DecisionTreeClassifier\n",
    "from sklearn.ensemble import RandomForestClassifier\n",
    "from sklearn.pipeline import Pipeline\n",
    "from category_encoders.target_encoder import TargetEncoder\n",
    "\n",
    "# For hyperparameter tuning\n",
    "from skopt import BayesSearchCV\n",
    "from skopt.space import Real, Categorical, Integer\n",
    "\n",
    "# For metrics and helpful functions\n",
    "from sklearn.model_selection import GridSearchCV, train_test_split\n",
    "from sklearn.metrics import accuracy_score, precision_score, recall_score,\\\n",
    "f1_score, confusion_matrix, ConfusionMatrixDisplay, classification_report\n",
    "from sklearn.metrics import roc_auc_score, roc_curve\n",
    "from sklearn.tree import plot_tree\n",
    "\n",
    "# For saving models\n",
    "import pickle\n",
    "\n",
    "\n",
    "# Feedback\n",
    "print(\"Successful.\")"
   ]
  },
  {
   "cell_type": "code",
   "execution_count": null,
   "id": "74175415-97a1-452a-b480-4c3ad5c07bab",
   "metadata": {},
   "outputs": [],
   "source": []
  },
  {
   "cell_type": "code",
   "execution_count": null,
   "id": "b1ba98f2-e70c-4239-af23-4c8a2d3fe8a6",
   "metadata": {},
   "outputs": [],
   "source": []
  },
  {
   "cell_type": "code",
   "execution_count": null,
   "id": "0696ae60-93ae-45fe-b29e-4916ced52185",
   "metadata": {},
   "outputs": [],
   "source": []
  },
  {
   "cell_type": "code",
   "execution_count": null,
   "id": "80a3f50f-1049-4146-bd32-235a6aefc7c1",
   "metadata": {},
   "outputs": [],
   "source": []
  },
  {
   "cell_type": "code",
   "execution_count": null,
   "id": "dfa5fbcd-164d-456b-af62-f0f559c3c19e",
   "metadata": {},
   "outputs": [],
   "source": []
  },
  {
   "cell_type": "code",
   "execution_count": null,
   "id": "ad08df67-b19f-4726-b2de-c7fa913fcb86",
   "metadata": {},
   "outputs": [],
   "source": []
  },
  {
   "cell_type": "code",
   "execution_count": null,
   "id": "d377e169-d925-4721-900a-889eb69e8e65",
   "metadata": {},
   "outputs": [],
   "source": []
  },
  {
   "cell_type": "code",
   "execution_count": null,
   "id": "17c29489-4599-466c-9544-955c6d267eb8",
   "metadata": {},
   "outputs": [],
   "source": []
  },
  {
   "cell_type": "code",
   "execution_count": null,
   "id": "afbc9c32-4ec2-4648-b963-8ae7746509c7",
   "metadata": {},
   "outputs": [],
   "source": []
  },
  {
   "cell_type": "code",
   "execution_count": null,
   "id": "e97b36ce-1538-425b-9057-8ebe9a77acc8",
   "metadata": {},
   "outputs": [],
   "source": []
  },
  {
   "cell_type": "code",
   "execution_count": null,
   "id": "a5f15620-b7e3-474d-b0f0-0b1b0d245cbc",
   "metadata": {},
   "outputs": [],
   "source": []
  }
 ],
 "metadata": {
  "kernelspec": {
   "display_name": "mlenv",
   "language": "python",
   "name": "mlenv"
  },
  "language_info": {
   "codemirror_mode": {
    "name": "ipython",
    "version": 3
   },
   "file_extension": ".py",
   "mimetype": "text/x-python",
   "name": "python",
   "nbconvert_exporter": "python",
   "pygments_lexer": "ipython3",
   "version": "3.11.5"
  }
 },
 "nbformat": 4,
 "nbformat_minor": 5
}
